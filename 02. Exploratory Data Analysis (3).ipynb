{
 "cells": [
  {
   "cell_type": "markdown",
   "metadata": {},
   "source": [
    "# Exploratory Data Analysis"
   ]
  },
  {
   "cell_type": "markdown",
   "metadata": {},
   "source": [
    "In this notebook we'll do some exploratory data analysis over our dataset. However, since we don't have our features created yet, we cannot do much at this point. In addition, when we create them, we won't be able to extract many insights because of the nature of text-based features. For this reason, only a shallow analysis will be done at this point.\n",
    "\n",
    "For the plots we have used `seaborn` and `altair`. `altair` is a package which allows us to plot graphics with a simple grammar as we would do in ggplot2 or Tableau. It also provides easy-to-make interactive plots. For further information please visit the project site: https://altair-viz.github.io/.\n",
    "\n",
    "To install it, please type this command in the shell:\n",
    "\n",
    "`! conda install -c conda-forge altair vega_datasets notebook vega`"
   ]
  },
  {
   "cell_type": "code",
   "execution_count": 61,
   "metadata": {},
   "outputs": [],
   "source": [
    "import pandas as pd\n",
    "import matplotlib.pyplot as plt\n",
    "import pickle\n",
    "import seaborn as sns\n",
    "sns.set_style(\"whitegrid\")\n",
    "import altair as alt\n",
    "#alt.renderers.enable(\"notebook\")\n",
    "# Code for hiding seaborn warnings\n",
    "import warnings\n",
    "warnings.filterwarnings(\"ignore\")"
   ]
  },
  {
   "cell_type": "markdown",
   "metadata": {},
   "source": [
    "Loading the dataset:"
   ]
  },
  {
   "cell_type": "code",
   "execution_count": 62,
   "metadata": {},
   "outputs": [],
   "source": [
    "df_path = \"/Users/keerthanareddy/Downloads/Latest-News-Classifier-master/0. Latest News Classifier/01. Dataset Creation/\"\n",
    "df_path2 = df_path + 'News_dataset.csv'\n",
    "df = pd.read_csv(df_path2, sep=';')"
   ]
  },
  {
   "cell_type": "code",
   "execution_count": 63,
   "metadata": {},
   "outputs": [
    {
     "data": {
      "text/html": [
       "<div>\n",
       "<style scoped>\n",
       "    .dataframe tbody tr th:only-of-type {\n",
       "        vertical-align: middle;\n",
       "    }\n",
       "\n",
       "    .dataframe tbody tr th {\n",
       "        vertical-align: top;\n",
       "    }\n",
       "\n",
       "    .dataframe thead th {\n",
       "        text-align: right;\n",
       "    }\n",
       "</style>\n",
       "<table border=\"1\" class=\"dataframe\">\n",
       "  <thead>\n",
       "    <tr style=\"text-align: right;\">\n",
       "      <th></th>\n",
       "      <th>File_Name</th>\n",
       "      <th>Content</th>\n",
       "      <th>Category</th>\n",
       "      <th>Complete_Filename</th>\n",
       "    </tr>\n",
       "  </thead>\n",
       "  <tbody>\n",
       "    <tr>\n",
       "      <th>0</th>\n",
       "      <td>Teju.txt</td>\n",
       "      <td>Greater Road Safety\\r\\n\\r\\nAutomation can help...</td>\n",
       "      <td>i10</td>\n",
       "      <td>Teju.txt-i10</td>\n",
       "    </tr>\n",
       "    <tr>\n",
       "      <th>1</th>\n",
       "      <td>teju2.txt</td>\n",
       "      <td>This is how Anthony Foxx, former U.S. secretar...</td>\n",
       "      <td>Nano</td>\n",
       "      <td>teju2.txt-Nano</td>\n",
       "    </tr>\n",
       "    <tr>\n",
       "      <th>2</th>\n",
       "      <td>teju3.txt</td>\n",
       "      <td>Artificial intelligence (AI) is used in a wide...</td>\n",
       "      <td>Porsche</td>\n",
       "      <td>teju3.txt-Porsche</td>\n",
       "    </tr>\n",
       "  </tbody>\n",
       "</table>\n",
       "</div>"
      ],
      "text/plain": [
       "   File_Name                                            Content Category  \\\n",
       "0   Teju.txt  Greater Road Safety\\r\\n\\r\\nAutomation can help...      i10   \n",
       "1  teju2.txt  This is how Anthony Foxx, former U.S. secretar...     Nano   \n",
       "2  teju3.txt  Artificial intelligence (AI) is used in a wide...  Porsche   \n",
       "\n",
       "   Complete_Filename  \n",
       "0       Teju.txt-i10  \n",
       "1     teju2.txt-Nano  \n",
       "2  teju3.txt-Porsche  "
      ]
     },
     "execution_count": 63,
     "metadata": {},
     "output_type": "execute_result"
    }
   ],
   "source": [
    "df.head()"
   ]
  },
  {
   "cell_type": "markdown",
   "metadata": {},
   "source": [
    "### Number of articles in each category"
   ]
  },
  {
   "cell_type": "code",
   "execution_count": 64,
   "metadata": {
    "scrolled": false
   },
   "outputs": [
    {
     "data": {
      "text/html": [
       "\n",
       "<div id=\"altair-viz-992085860c394368b6bc81e7d766768c\"></div>\n",
       "<script type=\"text/javascript\">\n",
       "  (function(spec, embedOpt){\n",
       "    let outputDiv = document.currentScript.previousElementSibling;\n",
       "    if (outputDiv.id !== \"altair-viz-992085860c394368b6bc81e7d766768c\") {\n",
       "      outputDiv = document.getElementById(\"altair-viz-992085860c394368b6bc81e7d766768c\");\n",
       "    }\n",
       "    const paths = {\n",
       "      \"vega\": \"https://cdn.jsdelivr.net/npm//vega@5?noext\",\n",
       "      \"vega-lib\": \"https://cdn.jsdelivr.net/npm//vega-lib?noext\",\n",
       "      \"vega-lite\": \"https://cdn.jsdelivr.net/npm//vega-lite@4.8.1?noext\",\n",
       "      \"vega-embed\": \"https://cdn.jsdelivr.net/npm//vega-embed@6?noext\",\n",
       "    };\n",
       "\n",
       "    function loadScript(lib) {\n",
       "      return new Promise(function(resolve, reject) {\n",
       "        var s = document.createElement('script');\n",
       "        s.src = paths[lib];\n",
       "        s.async = true;\n",
       "        s.onload = () => resolve(paths[lib]);\n",
       "        s.onerror = () => reject(`Error loading script: ${paths[lib]}`);\n",
       "        document.getElementsByTagName(\"head\")[0].appendChild(s);\n",
       "      });\n",
       "    }\n",
       "\n",
       "    function showError(err) {\n",
       "      outputDiv.innerHTML = `<div class=\"error\" style=\"color:red;\">${err}</div>`;\n",
       "      throw err;\n",
       "    }\n",
       "\n",
       "    function displayChart(vegaEmbed) {\n",
       "      vegaEmbed(outputDiv, spec, embedOpt)\n",
       "        .catch(err => showError(`Javascript Error: ${err.message}<br>This usually means there's a typo in your chart specification. See the javascript console for the full traceback.`));\n",
       "    }\n",
       "\n",
       "    if(typeof define === \"function\" && define.amd) {\n",
       "      requirejs.config({paths});\n",
       "      require([\"vega-embed\"], displayChart, err => showError(`Error loading script: ${err.message}`));\n",
       "    } else if (typeof vegaEmbed === \"function\") {\n",
       "      displayChart(vegaEmbed);\n",
       "    } else {\n",
       "      loadScript(\"vega\")\n",
       "        .then(() => loadScript(\"vega-lite\"))\n",
       "        .then(() => loadScript(\"vega-embed\"))\n",
       "        .catch(showError)\n",
       "        .then(() => displayChart(vegaEmbed));\n",
       "    }\n",
       "  })({\"config\": {\"view\": {\"continuousWidth\": 400, \"continuousHeight\": 300}}, \"layer\": [{\"mark\": {\"type\": \"bar\", \"size\": 50}, \"encoding\": {\"color\": {\"type\": \"nominal\", \"field\": \"Category\"}, \"tooltip\": [{\"type\": \"quantitative\", \"aggregate\": \"count\", \"title\": \"Number of articles\"}, {\"type\": \"nominal\", \"field\": \"Category\"}], \"x\": {\"type\": \"nominal\", \"field\": \"Category\"}, \"y\": {\"type\": \"quantitative\", \"aggregate\": \"count\", \"axis\": {\"title\": \"Number of articles\"}}}, \"selection\": {\"selector007\": {\"type\": \"interval\", \"bind\": \"scales\", \"encodings\": [\"x\", \"y\"]}}}, {\"mark\": {\"type\": \"text\", \"align\": \"center\", \"baseline\": \"bottom\"}, \"encoding\": {\"color\": {\"type\": \"nominal\", \"field\": \"Category\"}, \"text\": {\"type\": \"quantitative\", \"aggregate\": \"count\"}, \"tooltip\": [{\"type\": \"quantitative\", \"aggregate\": \"count\", \"title\": \"Number of articles\"}, {\"type\": \"nominal\", \"field\": \"Category\"}], \"x\": {\"type\": \"nominal\", \"field\": \"Category\"}, \"y\": {\"type\": \"quantitative\", \"aggregate\": \"count\", \"axis\": {\"title\": \"Number of articles\"}}}}], \"data\": {\"name\": \"data-d1cb386428014e338ea7c23961da1791\"}, \"height\": 300, \"title\": \"Number of articles in each category\", \"width\": 700, \"$schema\": \"https://vega.github.io/schema/vega-lite/v4.8.1.json\", \"datasets\": {\"data-d1cb386428014e338ea7c23961da1791\": [{\"File_Name\": \"Teju.txt\", \"Content\": \"Greater Road Safety\\r\\n\\r\\nAutomation can help reduce the number of crashes on our roads.\\r\\nGovernment data identifies driver behavior or error as a factor in 94 percent of crashes, and self-driving vehicles can help reduce driver error.\\r\\nHigher levels of autonomy have the potential to reduce risky and dangerous driver behaviors. The greatest promise may be reducing the devastation of impaired driving, drugged driving, unbelted vehicle occupants, speeding and distraction.\\r\\n\\r\\nGreater Independence\\r\\n\\r\\nFull automation offers more personal freedom.\\r\\nPeople with disabilities, like the blind, are capable of self-sufficiency, and highly automated vehicles can help them live the life they want.\\r\\nThese vehicles can also enhance independence for seniors.\\r\\nRide-sharing of HAVs could reduce costs of personal transportation, providing more affordable mobility.\\r\\nMan in Wheelchair loading truck\\r\\nMechanic Fixing Vehicle\\r\\nSaving Money\\r\\nAutomated driving systems could impact our pocketbooks in many ways.\\r\\n\\r\\nHAVs can help avoid the costs of crashes, including medical bills, lost work time and vehicle repair. \\r\\nFewer crashes may reduce the costs of insurance.\\r\\n\\r\\nMore Productivity\\r\\n\\r\\nWide-scale deployment of HAVs could allow drivers to recapture time.\\r\\nIn the future, HAVs could offer the convenience of dropping vehicle occupants at their destination, whether an airport or shopping mall, while the vehicle parks itself.\\r\\nIn a fully automated vehicle, all occupants could safely pursue more productive or entertaining activities, like responding to email or watching a movie.\\r\\nWoman in self-driving vehicle doing paperwork while driving\", \"Category\": \"i10\", \"Complete_Filename\": \"Teju.txt-i10\"}, {\"File_Name\": \"teju2.txt\", \"Content\": \"This is how Anthony Foxx, former U.S. secretary of transportation, envisioned the future of autonomous vehicles in 2016:\\r\\n\\r\\n\\u00e2\\u20ac\\u0153By 2021, we will see autonomous vehicles in operation across the country in ways that we [only] imagine today. \\u00e2\\u20ac\\u00a6 Families will be able to walk out of their homes and call a vehicle, and that vehicle will take them to work or to school. We\\u00e2\\u20ac\\u2122re going to see transit systems sharing services with some of these companies. It\\u00e2\\u20ac\\u2122s not just autonomy in the vehicles. You\\u00e2\\u20ac\\u2122re going to see trucks running more closely together, which results in fuel savings and positive climate impact. You\\u00e2\\u20ac\\u2122ll see companies that will start to use unmanned aircraft to deliver products to us. My daughter, who will be 16 in 2021, won\\u00e2\\u20ac\\u2122t have her driver\\u00e2\\u20ac\\u2122s license. She will be using a service.\\u00e2\\u20ac\\u009d\\r\\n\\r\\nFast forward to today, and I\\u00e2\\u20ac\\u2122m still driving a Peugeot 3008 \\u00e2\\u20ac\\u201d not a bad car by any means but miles away from Level 5 autonomy. Also, the self-driving-car hype has died down quite a bit, and the news from the industry doesn\\u00e2\\u20ac\\u2122t exactly inspire optimism.\\r\\n\\r\\nOn May 6, Lyft LYFT, -1.54%, the ride-sharing service that competes with Uber UBER, -2.15%, sold its Level 5 division, an autonomous-vehicle unit, to Woven Planet, a Toyota TM, -0.90% subsidiary. After four years of research and development, the company seems to realize that autonomous driving is a tough nut to crack \\u00e2\\u20ac\\u201d much tougher than the team had anticipated.\\r\\n\\r\\nUber came to the same conclusion, but even earlier, in December. The company sold Advanced Technologies Group, its self-driving unit, to Aurora Innovation, citing high costs and more than 30 crashes, culminating in a fatality as the reason for cutting its losses.\\r\\n\\r\\nFinally, several smaller companies, including Zoox, a robo-taxi company; Ike, an autonomous-trucking startup; and Voyage, a self-driving startup; have also passed the torch to companies with bigger budgets.\\r\\n\\r\\n\\r\\nAll this tells us two crucial things:\\r\\n\\r\\n1. Those startups, like many in the industry, have underestimated the sheer difficulty of \\u00e2\\u20ac\\u0153leveling up\\u00e2\\u20ac\\u009d vehicle autonomy to the fabled Level 5 (full driving automation, no human required). They were met with too many obstacles in research and testing, and had too little time to make significant breakthroughs. However, some got close!\\r\\n\\r\\n2. The divisions sold, mentioned above, are worth millions, some even billions, of dollars. The companies making the acquisitions \\u00e2\\u20ac\\u201d giants like Amazon AMZN, +0.46%, GM GM, +0.51% and newcomer Nuro \\u00e2\\u20ac\\u201d understand the long-term value of attaining the holy grail of autonomous driving and are willing to pay the price for the know-how and R&D already competed by these hard-working trailblazers.\\r\\n\\r\\nLimits of artificial intelligence\\r\\nBut why didn\\u00e2\\u20ac\\u2122t things go down as planned?\\r\\n\\r\\nThe state-of-the-art semiautonomous cars of the present are as smart and responsive as their artificial-intelligence (AI) algorithms allow them to be. These deep-learning algorithms are trained on insane amounts of data, which helps them recognize an ever-growing number of traffic situations and act accordingly.\\r\\n\\r\\nHowever, this method isn\\u00e2\\u20ac\\u2122t foolproof. There is an unknown number of situations that AI has not been trained on that can potentially confuse or trick the computer, resulting in injury or death of passengers or pedestrians.\\r\\n\\r\\nTo that end, owners of self-driving cars should always keep their eyes on the road and be ready to act at a moment\\u00e2\\u20ac\\u2122s notice. Every day, autonomous-vehicle systems are becoming more sophisticated, their algorithms more optimized \\u00e2\\u20ac\\u201d smarter, more robust and capable of handling a growing number of traffic scenarios.\\r\\n\\r\\nHowever, no matter how much they improve, theoretically, there will always be a situation that an AI won\\u00e2\\u20ac\\u2122t be able to detect and react to. Unless the industry and public agree to accept a flawed self-driving system \\u00e2\\u20ac\\u201d one capable of failure \\u00e2\\u20ac\\u201d autonomous vehicles on our streets will never become mainstream. Achieving perfection here can\\u00e2\\u20ac\\u2122t, and shouldn\\u00e2\\u20ac\\u2122t, be the goal.\\r\\n\\r\\nAirplanes are still much safer than cars, yet many people still fear flying and would much rather take their chances by driving a car. This irrational decision-making is rooted in the fear of the unknown and the unease we feel when we lose control, which inevitably happens with self-driving cars. It was hard enough to trust someone else to drive us around; it will be harder still to relinquish our safety and security to an algorithm.\\r\\n\\r\\nCar-hacking\\r\\nSpeaking of which, things aren\\u00e2\\u20ac\\u2122t perfect in that area either: In 2019, Regulus Cyber researchers found that spoofing attacks on the Tesla GNSS (GPS) receiver could easily be carried out wirelessly and remotely, exploiting security vulnerabilities in mission-critical telematics, sensor fusion and navigation capabilities. The remote attack caused one Tesla TSLA, +0.13% to abruptly slow down and unexpectedly make a sharp turn off a main road. Although its driver was attentive and switched to manual control, he was not able to stop the car from leaving the road.\\r\\n\\r\\nTesla reacted by patching the vulnerability and later used this case to highlight the necessity of constant vigilance for drivers relying on Tesla\\u00e2\\u20ac\\u2122s Navigate on Autopilot feature. The incident is now more than two years old, but the topic of cybersecurity is as relevant as ever \\u00e2\\u20ac\\u201d as vehicles become open to external data streams, vulnerability to cyberattacks increases as well.\\r\\n\\r\\nIs the convenience of autonomous driving really worth the risk of having your car hijacked remotely? Although this type of attack can be circumvented by relying on inertial measurement units (IMUs) and sensors that don\\u00e2\\u20ac\\u2122t broadcast or download external data, attacks that exploit security vulnerabilities in those systems could be used to the same detrimental effect.\", \"Category\": \"Nano\", \"Complete_Filename\": \"teju2.txt-Nano\"}, {\"File_Name\": \"teju3.txt\", \"Content\": \"Artificial intelligence (AI) is used in a wide variety of products and services, including maps embedded on our smart phones and \\u00e2\\u20ac\\u0153chat bots\\u00e2\\u20ac\\u009d that help answer our questions on websites. Many hope that AI will transform our economy in ways that drive growth, similar to how steam engines did in the late 19th century and electricity did in the early 20th century. But it is hard to imagine that maps on smart phones, chatbots, and other existing AI-enabled services will drive the type of economic growth we saw from stream and electricity. What we need to see are some dramatic new AI-enabled products and services that transform our way of life\\u00e2\\u20ac\\u201din short, we are waiting for an AI \\u00e2\\u20ac\\u0153killer app.\\u00e2\\u20ac\\u009d\\r\\nAutonomous vehicles (AVs)\\u00e2\\u20ac\\u201dvehicles that accelerate, brake, and turn on their own, requiring little or no input from a human driver\\u00e2\\u20ac\\u201dmay be such a killer app that transforms our economy significantly. AI supports AVs in a variety of ways, including quickly processing and interpreting the large amounts of data generated by the vehicle\\u00e2\\u20ac\\u2122s cameras and sensors and helping to improve vehicle fuel efficiency and safety. The impacts of broad adoption of AVs are equally numerous, from potentially lowering transportation costs by limiting the need for drivers to possibly transforming mobility in urban and suburban environments. While the relative timing and scale of economic growth is not yet clear\\u00e2\\u20ac\\u201dand subject to some debate among scholars\\u00e2\\u20ac\\u201da key step in maximizing the benefits of AVs is passing federal legislation, rather than relying on a patchwork of state and local guidelines. To inform the debate and help prepare policymakers for the task at hand, this report will examine the state of AVs, the potential for them to become a \\u00e2\\u20ac\\u0153killer app\\u00e2\\u20ac\\u009d with broad impacts, and the existing and potential regulations that could ensure net positive effects on the economy and society as a whole.\\r\\n\\r\\nTHE CURRENT STATE AND FUTURE OF AVS\\r\\nThe current standards for autonomous driving were developed by the Society of Automotive Engineers (SAE International). According to the SAE standard, the automation capability of vehicles ranges from Level 0, with no autonomy, to Level 5, which is full automation. Level 1 features include park assist, lane assist and adaptive cruise control. Some Level 3 vehicles, which include full self-driving capabilities but require human intervention in complex situations such as traffic jams, may be commercially available in 2021. No Level 4 or 5 cars, which would not require any human intervention, are yet certified for use on regular roads, though there are some such as Google\\u00e2\\u20ac\\u2122s Waymo that are in development.\\r\\n\\r\\nWhile the potential impacts of AVs are substantial, it will take time for them to be realized; AVs are still some years from being commercially available, let alone in widespread use. To give a reasonable sense of timing, Chris Urmson\\u00e2\\u20ac\\u201da DARPA challenge winner, head of Google\\u00e2\\u20ac\\u2122s Waymo autonomous vehicle unit for many years, and now CEO of a self-driving vehicle software company named Aurora \\u00e2\\u20ac\\u201dargues it may take up to 30 to 50 years before widespread adoption of autonomous vehicles. Despite predictions to the contrary\\u00e2\\u20ac\\u201de.g., Elon Musk\\u00e2\\u20ac\\u2122s 2019 prediction that there would be a Tesla driverless taxi fleet in some regions by 2020\\u00e2\\u20ac\\u201dtime frames of this magnitude are common in the automobile industry. Choe, Oettl and Seamans (2021) report that widespread adoption of new innovations in the automobile sector historically can take several decades.[1] There are a number of factors that contribute to technology adoption, and even if a new technology is feasible, it may not be available at a price point that many consumers will pay. For example, turbo-charged engines, which help to reduce the amount of fuel needed, did not start to become popular until oil prices started to rise in the 1970s.\\r\\n\\r\\nIn short, the timing of adoption of AVs and the economic impacts that will follow depend on many factors. For regulators and policymakers interested in shaping what will likely be considerable economic and societal impacts of AVs, now is the time.\\r\\nEFFECT ON OUR ECONOMY AND SOCIETY\\r\\nSupporters of autonomous vehicles argue that they may provide a variety of benefits including fuel efficiency and safety. Indeed, the Brookings Institution recently published a book on the topic (Winston and Karpilow, 2020).[2] The U.S. Energy Information Administration (EIA) argues that AVs are more fuel efficient than human-driven cars, which means fewer emissions. However, AVs may increase vehicle traffic, potentially nullifying emissions reduction from fuel efficiency. Kroger, Kuhnimhof, and Trommer (2019) project the adoption of autonomous vehicle technologies may increase vehicle traffic by 2-9 percent as a result of new automobile user groups as well as lower generalized costs of car travel.[3]\\r\\n\\r\\nAVs will likely be safer than human-driven cars, in large part through reducing human error which the National Highway Traffic Safety Association (NHTSA) estimates accounts for 94 percent of crashes. While widespread adoption of AVs should ultimately result in safer roads, there have been several high profile accidents involving AVs, such as a Waymo van that crashed into a car in Arizona. Perhaps as a result of some of these high-profile accidents, consumer demand for AVs seems to be relatively low. According to a 2021 survey by the American Automobile Association, only 14 percent of drivers report that they would trust riding in a vehicle that drives itself, a response similar to the 2020 survey. It is possible, however, that consumer attitudes will change once Level 4 and 5 vehicles become commercially available.\\r\\n\\r\\nAVs may help to reduce labor input costs in driving-intensive industries. However, as Gittleman and Monaco (2017) point out, there are several types of drivers, and autonomous driving will likely affect some types more than others.[4]  Autonomous vehicles are more likely to be used for heavy and tractor trailer truck purposes (aka \\u00e2\\u20ac\\u0153long haul\\u00e2\\u20ac\\u009d) than local delivery given the relative ease of navigating on highways and all the other tasks associated with local delivery, including freight handling, paperwork, and customer service. Gittleman and Monaco estimate that Level 4 and 5 automation may ultimately displace 300,000 to 400,000 drivers. But the authors highlight that there are many practical limitations to automation. For example, they highlight that one of the important functions of a truck driver is to serve as a security guard for the freight.\\r\\nA recent paper by Gelauff, Ossokina, and Teulings (2019) envisions some of the longer-term outcomes from AVs.[5]  The authors model two countervailing effects from AVs, each of which lead to differing outcomes on population distribution. On one hand, AVs may lead to improved use of time during car trips, which lowers the cost of living at a distance from cities. On the other hand, AVs may lead to improved public transit options in urban environments in the form of shared-ride autonomous vehicles (SAVs). The authors argue that SAVs may be more efficient than existing public transit and may make city living relatively more attractive leading to more population clustering in cities. The authors argue that the second effect may outweigh the first and ultimately may lead to overall population shifts towards large, attractive cities at the expense of smaller urban and non-urban areas. While the authors don\\u00e2\\u20ac\\u2122t speculate on the ultimate economic effects of such a change, it is worth noting that literature from economic geography suggests that there are many agglomeration effects from living in or close to cities, including greater economic growth and innovation.[6]  It is also worth noting that the COVID-19 pandemic has led to a large shift in population away from many urban environments, at least in the short run.\\r\\n\\r\\nIn short, AVs will likely affect our economy and society in a variety of ways. AVs may lead to fewer emissions and increased safety. By decreasing the need for humans to drive, AVs will likely transform the type of work done by humans in the transportation sector of the economy and may also change the way that humans commute to and from work. How all this plays out, however, depends on numerous factors including, importantly, existing and future regulations.\\r\\n\\r\\nCURRENT AND PROSPECTIVE AV LEGISLATION\\r\\nThe National Conference of State Legislatures highlights that a number of states have introduced and enacted laws related to autonomous vehicles. Notably, in December 2020, California State Senator Ben Allen introduced a bill to establish a new Council on the Future of Transportation in California that would promote state legislation for autonomous vehicles, in addition to other transportation-related policy. Also, in November 2020 the California Public Utilities Commission approved autonomous vehicle regulatory framework that would make it easier for companies to provide autonomous vehicle transportation services to the public. While these laws indicate that state legislators are responsive to local concerns about autonomous vehicles, the risk is a resulting patchwork of state laws.\\r\\n\\r\\nWith this concern in mind, there have been attempts at federal legislation, notably in 2017 with the SELF DRIVE Act in the House and the AV START Act in the Senate. The SELF DRIVE Act (Safely Ensuring Lives Future Deployment and Research In Vehicle Evolution Act) was passed in the House in 2017 but did not advance in the Senate. The bill would have provided NHTSA with the authority to regulate AVs. NHTSA would be authorized to require safety assessment certifications and states would be preempted from enacting laws regarding the design, construction, or performance of AVs unless those laws enact standards identical to federal standards. In addition, the bill would have required that manufacturers of AVs develop written cybersecurity and privacy plans for such vehicles prior to offering them for sale. The AV START Act (American Vision for Safer Transportation through Advancement of Revolutionary Technologies Act) was introduced in the Senate in 2017 but did not advance. Like the SELF DRIVE Act, it would have established a framework for a federal role in oversight of AVs, preempting state laws and providing clarity to stakeholders including car manufacturers and insurance companies.\", \"Category\": \"Porsche\", \"Complete_Filename\": \"teju3.txt-Porsche\"}]}}, {\"mode\": \"vega-lite\"});\n",
       "</script>"
      ],
      "text/plain": [
       "alt.LayerChart(...)"
      ]
     },
     "execution_count": 64,
     "metadata": {},
     "output_type": "execute_result"
    }
   ],
   "source": [
    "bars = alt.Chart(df).mark_bar(size=50).encode(\n",
    " x=alt.X(\"Category\"),\n",
    " y=alt.Y(\"count():Q\", axis=alt.Axis(title='Number of articles')),\n",
    " tooltip=[alt.Tooltip('count()', title='Number of articles'), 'Category'],\n",
    " color='Category'\n",
    ")\n",
    "text = bars.mark_text(\n",
    " align='center',\n",
    " baseline='bottom',\n",
    ").encode(\n",
    " text='count()'\n",
    ")\n",
    "(bars + text).interactive().properties(\n",
    " height=300,\n",
    " width=700,\n",
    " title = \"Number of articles in each category\",\n",
    ")"
   ]
  },
  {
   "cell_type": "markdown",
   "metadata": {},
   "source": [
    "### % of articles in each category"
   ]
  },
  {
   "cell_type": "code",
   "execution_count": 65,
   "metadata": {},
   "outputs": [
    {
     "data": {
      "text/html": [
       "\n",
       "<div id=\"altair-viz-283a144f276d47aa9fa772746288050c\"></div>\n",
       "<script type=\"text/javascript\">\n",
       "  (function(spec, embedOpt){\n",
       "    let outputDiv = document.currentScript.previousElementSibling;\n",
       "    if (outputDiv.id !== \"altair-viz-283a144f276d47aa9fa772746288050c\") {\n",
       "      outputDiv = document.getElementById(\"altair-viz-283a144f276d47aa9fa772746288050c\");\n",
       "    }\n",
       "    const paths = {\n",
       "      \"vega\": \"https://cdn.jsdelivr.net/npm//vega@5?noext\",\n",
       "      \"vega-lib\": \"https://cdn.jsdelivr.net/npm//vega-lib?noext\",\n",
       "      \"vega-lite\": \"https://cdn.jsdelivr.net/npm//vega-lite@4.8.1?noext\",\n",
       "      \"vega-embed\": \"https://cdn.jsdelivr.net/npm//vega-embed@6?noext\",\n",
       "    };\n",
       "\n",
       "    function loadScript(lib) {\n",
       "      return new Promise(function(resolve, reject) {\n",
       "        var s = document.createElement('script');\n",
       "        s.src = paths[lib];\n",
       "        s.async = true;\n",
       "        s.onload = () => resolve(paths[lib]);\n",
       "        s.onerror = () => reject(`Error loading script: ${paths[lib]}`);\n",
       "        document.getElementsByTagName(\"head\")[0].appendChild(s);\n",
       "      });\n",
       "    }\n",
       "\n",
       "    function showError(err) {\n",
       "      outputDiv.innerHTML = `<div class=\"error\" style=\"color:red;\">${err}</div>`;\n",
       "      throw err;\n",
       "    }\n",
       "\n",
       "    function displayChart(vegaEmbed) {\n",
       "      vegaEmbed(outputDiv, spec, embedOpt)\n",
       "        .catch(err => showError(`Javascript Error: ${err.message}<br>This usually means there's a typo in your chart specification. See the javascript console for the full traceback.`));\n",
       "    }\n",
       "\n",
       "    if(typeof define === \"function\" && define.amd) {\n",
       "      requirejs.config({paths});\n",
       "      require([\"vega-embed\"], displayChart, err => showError(`Error loading script: ${err.message}`));\n",
       "    } else if (typeof vegaEmbed === \"function\") {\n",
       "      displayChart(vegaEmbed);\n",
       "    } else {\n",
       "      loadScript(\"vega\")\n",
       "        .then(() => loadScript(\"vega-lite\"))\n",
       "        .then(() => loadScript(\"vega-embed\"))\n",
       "        .catch(showError)\n",
       "        .then(() => displayChart(vegaEmbed));\n",
       "    }\n",
       "  })({\"config\": {\"view\": {\"continuousWidth\": 400, \"continuousHeight\": 300}}, \"layer\": [{\"mark\": {\"type\": \"bar\", \"size\": 50}, \"encoding\": {\"color\": {\"type\": \"nominal\", \"field\": \"Category\"}, \"x\": {\"type\": \"nominal\", \"field\": \"Category\"}, \"y\": {\"type\": \"quantitative\", \"axis\": {\"format\": \".0%\", \"title\": \"% of Articles\"}, \"field\": \"PercentOfTotal\"}}, \"selection\": {\"selector008\": {\"type\": \"interval\", \"bind\": \"scales\", \"encodings\": [\"x\", \"y\"]}}, \"transform\": [{\"window\": [{\"op\": \"sum\", \"field\": \"id\", \"as\": \"TotalArticles\"}], \"frame\": [null, null]}, {\"calculate\": \"datum.id / datum.TotalArticles\", \"as\": \"PercentOfTotal\"}]}, {\"mark\": {\"type\": \"text\", \"align\": \"center\", \"baseline\": \"bottom\"}, \"encoding\": {\"color\": {\"type\": \"nominal\", \"field\": \"Category\"}, \"text\": {\"type\": \"quantitative\", \"field\": \"PercentOfTotal\", \"format\": \".1%\"}, \"x\": {\"type\": \"nominal\", \"field\": \"Category\"}, \"y\": {\"type\": \"quantitative\", \"axis\": {\"format\": \".0%\", \"title\": \"% of Articles\"}, \"field\": \"PercentOfTotal\"}}, \"transform\": [{\"window\": [{\"op\": \"sum\", \"field\": \"id\", \"as\": \"TotalArticles\"}], \"frame\": [null, null]}, {\"calculate\": \"datum.id / datum.TotalArticles\", \"as\": \"PercentOfTotal\"}]}], \"data\": {\"name\": \"data-e47f29b6ef31bdc2fe2be655b92090bb\"}, \"height\": 300, \"title\": \"% of articles in each category\", \"width\": 700, \"$schema\": \"https://vega.github.io/schema/vega-lite/v4.8.1.json\", \"datasets\": {\"data-e47f29b6ef31bdc2fe2be655b92090bb\": [{\"Category\": \"Nano\", \"id\": 1}, {\"Category\": \"Porsche\", \"id\": 1}, {\"Category\": \"i10\", \"id\": 1}]}}, {\"mode\": \"vega-lite\"});\n",
       "</script>"
      ],
      "text/plain": [
       "alt.LayerChart(...)"
      ]
     },
     "execution_count": 65,
     "metadata": {},
     "output_type": "execute_result"
    }
   ],
   "source": [
    "df['id'] = 1\n",
    "df2 = pd.DataFrame(df.groupby('Category').count()['id']).reset_index()\n",
    "\n",
    "bars = alt.Chart(df2).mark_bar(size=50).encode(\n",
    "    x=alt.X('Category'),\n",
    "    y=alt.Y('PercentOfTotal:Q', axis=alt.Axis(format='.0%', title='% of Articles')),\n",
    "    color='Category'\n",
    ").transform_window(\n",
    "    TotalArticles='sum(id)',\n",
    "    frame=[None, None]\n",
    ").transform_calculate(\n",
    "    PercentOfTotal=\"datum.id / datum.TotalArticles\"\n",
    ")\n",
    "\n",
    "text = bars.mark_text(\n",
    "    align='center',\n",
    "    baseline='bottom',\n",
    "    #dx=5  # Nudges text to right so it doesn't appear on top of the bar\n",
    ").encode(\n",
    "    text=alt.Text('PercentOfTotal:Q', format='.1%')\n",
    ")\n",
    "\n",
    "(bars + text).interactive().properties(\n",
    "    height=300, \n",
    "    width=700,\n",
    "    title = \"% of articles in each category\",\n",
    ")"
   ]
  },
  {
   "cell_type": "markdown",
   "metadata": {},
   "source": [
    "The classes are approximately balanced. We'll first try to train the models without oversampling/undersampling. If we see some bias in the model, we'll use these techniques."
   ]
  },
  {
   "cell_type": "markdown",
   "metadata": {},
   "source": [
    "### News length by category"
   ]
  },
  {
   "cell_type": "markdown",
   "metadata": {},
   "source": [
    "Definition of news length field. Although there are special characters in the text (``\\r, \\n``), it will be useful as an approximation."
   ]
  },
  {
   "cell_type": "code",
   "execution_count": 66,
   "metadata": {},
   "outputs": [],
   "source": [
    "df['News_length'] = df['Content'].str.len()"
   ]
  },
  {
   "cell_type": "code",
   "execution_count": 67,
   "metadata": {},
   "outputs": [
    {
     "data": {
      "image/png": "[encoded data removed]",
      "text/plain": [
       "<Figure size 921.6x432 with 1 Axes>"
      ]
     },
     "metadata": {},
     "output_type": "display_data"
    }
   ],
   "source": [
    "plt.figure(figsize=(12.8,6))\n",
    "sns.distplot(df['News_length']).set_title('News length distribution');"
   ]
  },
  {
   "cell_type": "code",
   "execution_count": 68,
   "metadata": {},
   "outputs": [
    {
     "data": {
      "text/plain": [
       "count        3.000000\n",
       "mean      5944.666667\n",
       "std       4384.597739\n",
       "min       1630.000000\n",
       "25%       3719.000000\n",
       "50%       5808.000000\n",
       "75%       8102.000000\n",
       "max      10396.000000\n",
       "Name: News_length, dtype: float64"
      ]
     },
     "execution_count": 68,
     "metadata": {},
     "output_type": "execute_result"
    }
   ],
   "source": [
    "df['News_length'].describe()"
   ]
  },
  {
   "cell_type": "markdown",
   "metadata": {},
   "source": [
    "Let's remove from the 95% percentile onwards to better appreciate the histogram:"
   ]
  },
  {
   "cell_type": "code",
   "execution_count": 69,
   "metadata": {},
   "outputs": [],
   "source": [
    "quantile_95 = df['News_length'].quantile(0.95)\n",
    "df_95 = df[df['News_length'] < quantile_95]"
   ]
  },
  {
   "cell_type": "code",
   "execution_count": 18,
   "metadata": {},
   "outputs": [
    {
     "data": {
      "image/png": "[encoded data removed]",
      "text/plain": [
       "<Figure size 921.6x432 with 1 Axes>"
      ]
     },
     "metadata": {},
     "output_type": "display_data"
    }
   ],
   "source": [
    "plt.figure(figsize=(12.8,6))\n",
    "sns.distplot(df_95['News_length']).set_title('News length distribution');"
   ]
  },
  {
   "cell_type": "markdown",
   "metadata": {},
   "source": [
    "We can get the number of news articles with more than 10,000 characters:"
   ]
  },
  {
   "cell_type": "code",
   "execution_count": 70,
   "metadata": {},
   "outputs": [
    {
     "data": {
      "text/plain": [
       "3"
      ]
     },
     "execution_count": 70,
     "metadata": {},
     "output_type": "execute_result"
    }
   ],
   "source": [
    "df_more10k = df[df['News_length'] > 1000]\n",
    "len(df_more10k)"
   ]
  },
  {
   "cell_type": "markdown",
   "metadata": {},
   "source": [
    "Let's see one:"
   ]
  },
  {
   "cell_type": "code",
   "execution_count": 71,
   "metadata": {
    "scrolled": false
   },
   "outputs": [
    {
     "data": {
      "text/plain": [
       "'Greater Road Safety\\r\\n\\r\\nAutomation can help reduce the number of crashes on our roads.\\r\\nGovernment data identifies driver behavior or error as a factor in 94 percent of crashes, and self-driving vehicles can help reduce driver error.\\r\\nHigher levels of autonomy have the potential to reduce risky and dangerous driver behaviors. The greatest promise may be reducing the devastation of impaired driving, drugged driving, unbelted vehicle occupants, speeding and distraction.\\r\\n\\r\\nGreater Independence\\r\\n\\r\\nFull automation offers more personal freedom.\\r\\nPeople with disabilities, like the blind, are capable of self-sufficiency, and highly automated vehicles can help them live the life they want.\\r\\nThese vehicles can also enhance independence for seniors.\\r\\nRide-sharing of HAVs could reduce costs of personal transportation, providing more affordable mobility.\\r\\nMan in Wheelchair loading truck\\r\\nMechanic Fixing Vehicle\\r\\nSaving Money\\r\\nAutomated driving systems could impact our pocketbooks in many ways.\\r\\n\\r\\nHAVs can help avoid the costs of crashes, including medical bills, lost work time and vehicle repair. \\r\\nFewer crashes may reduce the costs of insurance.\\r\\n\\r\\nMore Productivity\\r\\n\\r\\nWide-scale deployment of HAVs could allow drivers to recapture time.\\r\\nIn the future, HAVs could offer the convenience of dropping vehicle occupants at their destination, whether an airport or shopping mall, while the vehicle parks itself.\\r\\nIn a fully automated vehicle, all occupants could safely pursue more productive or entertaining activities, like responding to email or watching a movie.\\r\\nWoman in self-driving vehicle doing paperwork while driving'"
      ]
     },
     "execution_count": 71,
     "metadata": {},
     "output_type": "execute_result"
    }
   ],
   "source": [
    "df_more10k['Content'].iloc[0]"
   ]
  },
  {
   "cell_type": "markdown",
   "metadata": {},
   "source": [
    "It's just a large news article."
   ]
  },
  {
   "cell_type": "markdown",
   "metadata": {},
   "source": [
    "Let's now plot a boxplot:"
   ]
  },
  {
   "cell_type": "code",
   "execution_count": 72,
   "metadata": {
    "scrolled": false
   },
   "outputs": [
    {
     "data": {
      "image/png": "[encoded data removed]",
      "text/plain": [
       "<Figure size 921.6x432 with 1 Axes>"
      ]
     },
     "metadata": {},
     "output_type": "display_data"
    }
   ],
   "source": [
    "plt.figure(figsize=(12.8,6))\n",
    "sns.boxplot(data=df, x='Category', y='News_length', width=.5);"
   ]
  },
  {
   "cell_type": "markdown",
   "metadata": {},
   "source": [
    "Now, let's remove the larger documents for better comprehension:"
   ]
  },
  {
   "cell_type": "code",
   "execution_count": 73,
   "metadata": {},
   "outputs": [
    {
     "data": {
      "image/png": "[encoded data removed]",
      "text/plain": [
       "<Figure size 921.6x432 with 1 Axes>"
      ]
     },
     "metadata": {},
     "output_type": "display_data"
    }
   ],
   "source": [
    "plt.figure(figsize=(12.8,6))\n",
    "sns.boxplot(data=df_95, x='Category', y='News_length');"
   ]
  },
  {
   "cell_type": "markdown",
   "metadata": {},
   "source": [
    "We can see that, although the length distribution is different for every category, the difference is not too big. If we had way too different lengths between categories we would have a problem since the feature creation process may take into account counts of words. However, when creating the features with TF-IDF scoring, we will normalize the features just to avoid this."
   ]
  },
  {
   "cell_type": "markdown",
   "metadata": {},
   "source": [
    "At this point, we cannot do further Exploratory Data Analysis. We'll turn onto the **Feature Engineering** section."
   ]
  },
  {
   "cell_type": "markdown",
   "metadata": {},
   "source": [
    "We'll save the dataset:"
   ]
  },
  {
   "cell_type": "code",
   "execution_count": 74,
   "metadata": {},
   "outputs": [],
   "source": [
    "with open('News_dataset.pickle20', 'wb') as output:\n",
    "    pickle.dump(df, output)"
   ]
  },
  {
   "cell_type": "code",
   "execution_count": null,
   "metadata": {},
   "outputs": [],
   "source": []
  }
 ],
 "metadata": {
  "kernelspec": {
   "display_name": "Python 3 (ipykernel)",
   "language": "python",
   "name": "python3"
  },
  "language_info": {
   "codemirror_mode": {
    "name": "ipython",
    "version": 3
   },
   "file_extension": ".py",
   "mimetype": "text/x-python",
   "name": "python",
   "nbconvert_exporter": "python",
   "pygments_lexer": "ipython3",
   "version": "3.8.11"
  }
 },
 "nbformat": 4,
 "nbformat_minor": 2
}
